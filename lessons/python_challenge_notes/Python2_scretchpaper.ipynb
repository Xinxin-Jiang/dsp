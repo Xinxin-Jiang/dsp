{
 "cells": [
  {
   "cell_type": "markdown",
   "metadata": {},
   "source": [
    "# 1. [REGEX] Count Degrees  \n",
    "Read in a csv file  \n",
    "Return a dictionary where:\n",
    "* keys are (standardized) degrees &\n",
    "* values are their frequencies in the file"
   ]
  },
  {
   "cell_type": "code",
   "execution_count": null,
   "metadata": {},
   "outputs": [],
   "source": [
    "import sys\n",
    "sys.path"
   ]
  },
  {
   "cell_type": "code",
   "execution_count": null,
   "metadata": {},
   "outputs": [],
   "source": [
    "sys.path.append('../')   # so that the faculty file can be reached"
   ]
  },
  {
   "cell_type": "code",
   "execution_count": null,
   "metadata": {},
   "outputs": [],
   "source": [
    "sys.path                 # check the parallel directory that 'faculty.csv' resides in now in our Python path."
   ]
  },
  {
   "cell_type": "code",
   "execution_count": null,
   "metadata": {},
   "outputs": [],
   "source": [
    "degree_counter = dict()\n",
    "degrees_list = []\n",
    "with open('../data/faculty.csv') as f:\n",
    "    f.readline()    # skip the first line (column names)\n",
    "    for line in f:  # loop through the file line by line\n",
    "        row = line.split(',')  # split current line into a list of strings\n",
    "        extend_list = row[1].upper().strip().replace('.','').split(' ')\n",
    "        # get the \"degree\" value; standardize it; \n",
    "        # split into a list of degrees for the PERSON\n",
    "        degrees_list.extend(extend_list)\n",
    "        # add the person's degree list to degrees_list pool for all\n",
    "        print(degrees_list)\n",
    "for degree in degrees_list:\n",
    "    try:\n",
    "        degree_counter[degree] += 1\n",
    "    except:\n",
    "        degree_counter[degree] = 1\n",
    "print(degrees_list)\n",
    "print(degree_counter)"
   ]
  },
  {
   "cell_type": "markdown",
   "metadata": {},
   "source": [
    "# 2. [dictionary, readfile] Count Titles\n",
    "Read in a csv file  \n",
    "Return a dictionary where:\n",
    "* keys are (standardized) titles\n",
    "* values are their frequencies in the file"
   ]
  },
  {
   "cell_type": "code",
   "execution_count": null,
   "metadata": {},
   "outputs": [],
   "source": [
    "title_counter = {}\n",
    "title_list = []\n",
    "with open('../data/faculty.csv') as f:\n",
    "    f.readline()\n",
    "    for line in f:\n",
    "        row = line.split(',')\n",
    "        typo_removed_title = row[2].replace(' is ',' of ')\n",
    "        # use set(title_list) to identify typos \n",
    "        title_list.append(typo_removed_title)\n",
    "for title in title_list:\n",
    "    try:\n",
    "        title_counter[title] += 1\n",
    "    except:\n",
    "        title_counter[title] = 1\n",
    "print(title_counter)"
   ]
  },
  {
   "cell_type": "markdown",
   "metadata": {},
   "source": [
    "# 3. [REGEX] Emails\n",
    "Read in a csv file  \n",
    "Return a list of emails in the file"
   ]
  },
  {
   "cell_type": "code",
   "execution_count": null,
   "metadata": {},
   "outputs": [],
   "source": [
    "email_list = []\n",
    "with open('../data/faculty.csv') as f:\n",
    "    f.readline()\n",
    "    for line in f:\n",
    "        email = line.strip().split(',')[-1]\n",
    "        email_list.append(email)\n",
    "print(email_list)"
   ]
  },
  {
   "cell_type": "markdown",
   "metadata": {},
   "source": [
    "# 4. [REGEX] Email Domains\n",
    "Given a list of emails  \n",
    "Return the UNIQUE email domains  \n",
    ">HINT: UNIQUE--> set constructer!!!*"
   ]
  },
  {
   "cell_type": "code",
   "execution_count": null,
   "metadata": {},
   "outputs": [],
   "source": [
    "domain_list = []\n",
    "for email in email_list:\n",
    "    domain_start_position = email.find('@') + 1\n",
    "    # look for \"@\" in the email, bc the domain starts right after it\n",
    "    domain = email[domain_start_position:]\n",
    "    # get the domain part\n",
    "    print(domain)\n",
    "    domain_list.append(domain)\n",
    "unique_domains = set(domain_list)\n",
    "# use set constructer to remove duplicates\n",
    "print(unique_domains)"
   ]
  },
  {
   "cell_type": "markdown",
   "metadata": {},
   "source": [
    "# 5. [write to csv file] Write to file\n",
    "Given a list of emails  \n",
    "Write the emails to a file called 'emails.cvs'"
   ]
  },
  {
   "cell_type": "code",
   "execution_count": null,
   "metadata": {},
   "outputs": [],
   "source": [
    "with open('emails.csv','w') as write_to:           # open a new file in write mode\n",
    "    write_to.write('This is a list of emails.\\n')  # write the header\n",
    "    for email in email_list:                       # loop through email_list\n",
    "        write_to.write(email+'\\n')                 # write one email at a time, and start a new line\n",
    "        \n",
    "# Check:\n",
    "# with open('emails.csv','r') as f:\n",
    "#     print(f.readlines())"
   ]
  },
  {
   "cell_type": "markdown",
   "metadata": {},
   "source": [
    "# 6. [dictionary] Create dictionary from csv (1)\n",
    "Read in 'faculty.csv'  \n",
    "Return a dictionary where:\n",
    "* keys are last names\n",
    "* values are corresponding rowSSS"
   ]
  },
  {
   "cell_type": "code",
   "execution_count": null,
   "metadata": {},
   "outputs": [],
   "source": [
    "from collections import defaultdict\n",
    "rows_by_lastname = defaultdict(list)        # initialize a dictionary with default list typed values\n",
    "\n",
    "with open('../data/faculty.csv') as f:\n",
    "    f.readline()\n",
    "    for line in f:\n",
    "#       print(line.strip())\n",
    "        row = line.strip().split(',')\n",
    "#       print(row)\n",
    "        lastname = row[0].split(' ')[-1]   # split full name into parts: first, (middle), last; fetch the last part\n",
    "        row_info = row[1:]                 # get the row_info part; used as value in the dict\n",
    "#       print(lastname)\n",
    "#       print(row_info)\n",
    "        rows_by_lastname[lastname].append(row_info)   # append current row_info under matching lastname key\n",
    "print(rows_by_lastname)"
   ]
  },
  {
   "cell_type": "markdown",
   "metadata": {},
   "source": [
    "# 7. [dictionary] Create dictionary from csv (2)\n",
    "Read in 'faculty.csv'\n",
    "Return a dictionary where:\n",
    "* keys are tuples of names\n",
    "* values are corresponding rows\n",
    ">assume tuples are unique, therefore one row under per tuple"
   ]
  },
  {
   "cell_type": "code",
   "execution_count": null,
   "metadata": {},
   "outputs": [],
   "source": [
    "rows_by_fullname = dict()        # initialize a dictionary\n",
    "\n",
    "with open('../data/faculty.csv') as f:\n",
    "    f.readline()\n",
    "    for line in f:\n",
    "        row = line.strip().split(',')\n",
    "        fullname = tuple(row[0].split(' '))  # split full name into a list of parts; construct a fullname tuple\n",
    "        row_info = row[1:]                   # get the row_info part\n",
    "#         print(fullname)\n",
    "#         print(row_info)\n",
    "        rows_by_fullname[fullname] = row_info   # add current row_info under matching lastname key\n",
    "print(rows_by_fullname)"
   ]
  }
 ],
 "metadata": {
  "kernelspec": {
   "display_name": "Python 3",
   "language": "python",
   "name": "python3"
  },
  "language_info": {
   "codemirror_mode": {
    "name": "ipython",
    "version": 3
   },
   "file_extension": ".py",
   "mimetype": "text/x-python",
   "name": "python",
   "nbconvert_exporter": "python",
   "pygments_lexer": "ipython3",
   "version": "3.7.4"
  }
 },
 "nbformat": 4,
 "nbformat_minor": 2
}
